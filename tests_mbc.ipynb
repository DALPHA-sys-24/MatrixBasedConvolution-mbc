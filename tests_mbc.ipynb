{
 "cells": [
  {
   "cell_type": "code",
   "execution_count": 1,
   "id": "b9e9c3fc",
   "metadata": {},
   "outputs": [],
   "source": [
    "%load_ext autoreload\n",
    "%autoreload 2\n",
    "import numpy as np\n",
    "import tensorflow as tf\n",
    "import MatrixBasedConvolution as mbc"
   ]
  },
  {
   "cell_type": "markdown",
   "id": "ea464263",
   "metadata": {},
   "source": [
    "## Convolution parameters"
   ]
  },
  {
   "cell_type": "code",
   "execution_count": 2,
   "id": "86e4c3c7",
   "metadata": {},
   "outputs": [],
   "source": [
    "inputs_shape_1d=(1,20)\n",
    "inputs_shape_2d=(1,5,5,1)\n",
    "ARGS={\"kernel_size\":3,\n",
    "\"stride\":1,\n",
    "\"padding\":'same',\n",
    "\"use_phi\":True,\n",
    "\"activation\":None,\n",
    "\"use_lambda_out\":False,\n",
    "\"use_lambda_in\":False}"
   ]
  },
  {
   "cell_type": "markdown",
   "id": "0ae98955",
   "metadata": {},
   "source": [
    "## Convalution 1D and 2D outputs"
   ]
  },
  {
   "cell_type": "code",
   "execution_count": 3,
   "id": "df962fa1",
   "metadata": {},
   "outputs": [
    {
     "name": "stdout",
     "output_type": "stream",
     "text": [
      "1D Convolution building...\n",
      "2D Convolution building...\n"
     ]
    }
   ],
   "source": [
    "print(\"1D Convolution building...\")\n",
    "con1d=mbc.matrix_conv_1d(**ARGS)\n",
    "con1d.build(inputs_shape_1d)\n",
    "print(\"2D Convolution building...\")\n",
    "con2d=mbc.matrix_conv_2d(**ARGS)\n",
    "con2d.build(inputs_shape_2d)"
   ]
  },
  {
   "cell_type": "code",
   "execution_count": 4,
   "id": "ec50f2f7",
   "metadata": {},
   "outputs": [
    {
     "name": "stdout",
     "output_type": "stream",
     "text": [
      "inputs 1D generation...\n",
      "inputs 2D generation...\n"
     ]
    }
   ],
   "source": [
    "print(\"inputs 1D generation...\")\n",
    "inputs_1d=tf.random.uniform(shape=inputs_shape_1d,minval=0,maxval=1)\n",
    "print(\"inputs 2D generation...\")\n",
    "inputs_2d=tf.random.uniform(shape=inputs_shape_2d,minval=0,maxval=1)\n"
   ]
  },
  {
   "cell_type": "code",
   "execution_count": 5,
   "id": "c038012d",
   "metadata": {},
   "outputs": [
    {
     "name": "stdout",
     "output_type": "stream",
     "text": [
      "(1, 20)\n",
      "(5, 5)\n"
     ]
    }
   ],
   "source": [
    "ouputs_mbc_1d=con1d.conv_jit(inputs_1d).numpy()\n",
    "print(ouputs_mbc_1d.shape)\n",
    "ouputs_mbc_2d=con2d.conv_jit(inputs_2d).numpy()[0,:,:,0]\n",
    "print(ouputs_mbc_2d.shape)"
   ]
  },
  {
   "cell_type": "markdown",
   "id": "c3ad51b0",
   "metadata": {},
   "source": [
    "## Comparison between standard conv1d/conv2d and matrix based conv1d/conv2d"
   ]
  },
  {
   "cell_type": "code",
   "execution_count": 6,
   "id": "5dfd9aa5",
   "metadata": {},
   "outputs": [
    {
     "data": {
      "text/plain": [
       "TensorShape([3, 3])"
      ]
     },
     "execution_count": 6,
     "metadata": {},
     "output_type": "execute_result"
    }
   ],
   "source": [
    "kernel=tf.reshape(con2d.kernel,shape=(ARGS.get('kernel_size'),ARGS.get('kernel_size')))\n",
    "kernel.shape"
   ]
  },
  {
   "cell_type": "code",
   "execution_count": 7,
   "id": "784b0643",
   "metadata": {},
   "outputs": [
    {
     "data": {
      "text/plain": [
       "(5, 5)"
      ]
     },
     "execution_count": 7,
     "metadata": {},
     "output_type": "execute_result"
    }
   ],
   "source": [
    "ouputs_classical=mbc.classical_convolution(img=inputs_2d[0,:,:,0],kernel=kernel.numpy())\n",
    "ouputs_classical.shape\n"
   ]
  },
  {
   "cell_type": "code",
   "execution_count": 8,
   "id": "65bc04de",
   "metadata": {},
   "outputs": [
    {
     "data": {
      "text/plain": [
       "array([[ 0.3059318 ,  0.38617957,  0.4018255 ,  0.3778597 ,  0.04954727],\n",
       "       [ 0.32336083,  0.6207103 ,  0.22260246,  0.4291327 ,  0.26951125],\n",
       "       [ 0.33101737,  0.83349425,  0.6769575 ,  0.16048278,  0.46369585],\n",
       "       [ 0.30094528,  0.49383372,  0.58357507,  0.7501304 ,  0.37573946],\n",
       "       [-0.00230748,  0.44241938,  0.32701463,  0.21546453,  0.21653849]],\n",
       "      dtype=float32)"
      ]
     },
     "execution_count": 8,
     "metadata": {},
     "output_type": "execute_result"
    }
   ],
   "source": [
    "ouputs_mbc_2d"
   ]
  },
  {
   "cell_type": "code",
   "execution_count": 9,
   "id": "1de4f160",
   "metadata": {},
   "outputs": [
    {
     "data": {
      "text/plain": [
       "array([[ 0.3059318 ,  0.38617957,  0.40182546,  0.3778597 ,  0.04954726],\n",
       "       [ 0.32336083,  0.6207103 ,  0.22260244,  0.4291327 ,  0.26951128],\n",
       "       [ 0.33101737,  0.8334942 ,  0.6769575 ,  0.1604828 ,  0.46369585],\n",
       "       [ 0.30094528,  0.49383372,  0.583575  ,  0.7501304 ,  0.37573946],\n",
       "       [-0.00230748,  0.44241938,  0.32701457,  0.21546456,  0.21653849]],\n",
       "      dtype=float32)"
      ]
     },
     "execution_count": 9,
     "metadata": {},
     "output_type": "execute_result"
    }
   ],
   "source": [
    "ouputs_classical"
   ]
  },
  {
   "cell_type": "code",
   "execution_count": 10,
   "id": "1afc2651",
   "metadata": {},
   "outputs": [
    {
     "name": "stdout",
     "output_type": "stream",
     "text": [
      "The outputs are the same\n"
     ]
    }
   ],
   "source": [
    "if np.allclose(ouputs_classical,ouputs_mbc_2d,atol=1e-16):\n",
    "    print(\"The outputs are the same\")\n"
   ]
  },
  {
   "cell_type": "markdown",
   "id": "1cdd6951",
   "metadata": {},
   "source": [
    "## Timer"
   ]
  },
  {
   "cell_type": "code",
   "execution_count": 11,
   "id": "f10cbd1b",
   "metadata": {},
   "outputs": [
    {
     "name": "stdout",
     "output_type": "stream",
     "text": [
      "127 μs ± 1.34 μs per loop (mean ± std. dev. of 7 runs, 10,000 loops each)\n"
     ]
    }
   ],
   "source": [
    "%timeit ouputs_mbc_2d=con2d.conv_jit(inputs_2d).numpy()\n"
   ]
  },
  {
   "cell_type": "code",
   "execution_count": 12,
   "id": "31f46dbd",
   "metadata": {},
   "outputs": [
    {
     "name": "stdout",
     "output_type": "stream",
     "text": [
      "25.3 ms ± 284 μs per loop (mean ± std. dev. of 7 runs, 10 loops each)\n"
     ]
    }
   ],
   "source": [
    "%timeit mbc.classical_convolution(img=inputs_2d[0,:,:,0],kernel=kernel.numpy())"
   ]
  },
  {
   "cell_type": "code",
   "execution_count": 13,
   "id": "46ce221e",
   "metadata": {},
   "outputs": [],
   "source": [
    "conv_layer = tf.keras.layers.Conv2D(\n",
    "filters=1,           \n",
    "kernel_size=(ARGS.get('kernel_size'), ARGS.get('kernel_size')),     \n",
    "strides=(ARGS.get('stride'), ARGS.get('stride')),  \n",
    "activation=ARGS.get('activation'),      \n",
    "padding=ARGS.get('padding'),        \n",
    "use_bias=False          \n",
    ")\n",
    "conv_layer.build(input_shape=inputs_2d.shape)\n",
    "conv_layer.set_weights([tf.reshape(kernel,shape=(ARGS.get('kernel_size'),ARGS.get('kernel_size'),1,1))])\n"
   ]
  },
  {
   "cell_type": "code",
   "execution_count": 14,
   "id": "9d5ea1f9",
   "metadata": {},
   "outputs": [],
   "source": [
    "@tf.function(jit_compile=True)\n",
    "def tf_conv2d(inputs_2d):\n",
    "    return conv_layer(inputs_2d)\n"
   ]
  },
  {
   "cell_type": "code",
   "execution_count": 15,
   "id": "de9cbd30",
   "metadata": {},
   "outputs": [
    {
     "name": "stdout",
     "output_type": "stream",
     "text": [
      "127 μs ± 3.2 μs per loop (mean ± std. dev. of 7 runs, 10,000 loops each)\n"
     ]
    }
   ],
   "source": [
    "%timeit tf_conv2d(inputs_2d)"
   ]
  }
 ],
 "metadata": {
  "kernelspec": {
   "display_name": "mon_env",
   "language": "python",
   "name": "python3"
  },
  "language_info": {
   "codemirror_mode": {
    "name": "ipython",
    "version": 3
   },
   "file_extension": ".py",
   "mimetype": "text/x-python",
   "name": "python",
   "nbconvert_exporter": "python",
   "pygments_lexer": "ipython3",
   "version": "3.12.6"
  }
 },
 "nbformat": 4,
 "nbformat_minor": 5
}
