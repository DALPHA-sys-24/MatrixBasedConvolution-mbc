{
 "cells": [
  {
   "cell_type": "code",
   "execution_count": 88,
   "id": "b9e9c3fc",
   "metadata": {},
   "outputs": [
    {
     "name": "stdout",
     "output_type": "stream",
     "text": [
      "The autoreload extension is already loaded. To reload it, use:\n",
      "  %reload_ext autoreload\n"
     ]
    }
   ],
   "source": [
    "%load_ext autoreload\n",
    "%autoreload 2\n",
    "import numpy as np\n",
    "import tensorflow as tf\n",
    "import MatrixBasedConvolution as mbc"
   ]
  },
  {
   "cell_type": "code",
   "execution_count": 89,
   "id": "86e4c3c7",
   "metadata": {},
   "outputs": [],
   "source": [
    "inputs_shape=(1,5,5,1)\n",
    "ARGS={\"kernel_size\":3,\n",
    "\"strides\":1,\n",
    "\"padding\":'same',\n",
    "\"use_phi\":True,\n",
    "\"activation\":None,\n",
    "\"use_lambda_out\":False,\n",
    "\"use_lambda_in\":False}"
   ]
  },
  {
   "cell_type": "code",
   "execution_count": 90,
   "id": "df962fa1",
   "metadata": {},
   "outputs": [],
   "source": [
    "con2d=mbc.matrix_conv_2d(**ARGS)\n",
    "con2d.build(inputs_shape)"
   ]
  },
  {
   "cell_type": "code",
   "execution_count": 91,
   "id": "ec50f2f7",
   "metadata": {},
   "outputs": [],
   "source": [
    "inputs=tf.random.uniform(shape=inputs_shape,minval=0,maxval=1)\n"
   ]
  },
  {
   "cell_type": "code",
   "execution_count": 99,
   "id": "c038012d",
   "metadata": {},
   "outputs": [
    {
     "ename": "TypeError",
     "evalue": "in user code:\n\n    File \"c:\\Users\\jketchak\\Documents\\DALPHAcommunity\\UNAMUR\\EUREKA\\btwg_ml\\MatrixBasedConvolution-mbc\\MatrixBasedConvolution\\mbc.py\", line 272, in indices_phi  *\n        if i == count * (self.output_shape[1]):\n\n    TypeError: Input 'y' of 'Mul' Op has type float32 that does not match type int32 of argument 'x'.\n",
     "output_type": "error",
     "traceback": [
      "\u001b[31m---------------------------------------------------------------------------\u001b[39m",
      "\u001b[31mTypeError\u001b[39m                                 Traceback (most recent call last)",
      "\u001b[36mCell\u001b[39m\u001b[36m \u001b[39m\u001b[32mIn[99]\u001b[39m\u001b[32m, line 1\u001b[39m\n\u001b[32m----> \u001b[39m\u001b[32m1\u001b[39m ouputs_spectral=\u001b[43mcon2d\u001b[49m\u001b[43m.\u001b[49m\u001b[43mconv_jit\u001b[49m\u001b[43m(\u001b[49m\u001b[43minputs\u001b[49m\u001b[43m)\u001b[49m[\u001b[32m0\u001b[39m,:,:,\u001b[32m0\u001b[39m].numpy()\n\u001b[32m      2\u001b[39m ouputs_spectral.shape\n",
      "\u001b[36mFile \u001b[39m\u001b[32mc:\\Users\\jketchak\\Documents\\DALPHAcommunity\\UNAMUR\\EUREKA\\btwg_ml\\MatrixBasedConvolution-mbc\\mon_env\\Lib\\site-packages\\tensorflow\\python\\util\\traceback_utils.py:153\u001b[39m, in \u001b[36mfilter_traceback.<locals>.error_handler\u001b[39m\u001b[34m(*args, **kwargs)\u001b[39m\n\u001b[32m    151\u001b[39m \u001b[38;5;28;01mexcept\u001b[39;00m \u001b[38;5;167;01mException\u001b[39;00m \u001b[38;5;28;01mas\u001b[39;00m e:\n\u001b[32m    152\u001b[39m   filtered_tb = _process_traceback_frames(e.__traceback__)\n\u001b[32m--> \u001b[39m\u001b[32m153\u001b[39m   \u001b[38;5;28;01mraise\u001b[39;00m e.with_traceback(filtered_tb) \u001b[38;5;28;01mfrom\u001b[39;00m\u001b[38;5;250m \u001b[39m\u001b[38;5;28;01mNone\u001b[39;00m\n\u001b[32m    154\u001b[39m \u001b[38;5;28;01mfinally\u001b[39;00m:\n\u001b[32m    155\u001b[39m   \u001b[38;5;28;01mdel\u001b[39;00m filtered_tb\n",
      "\u001b[36mFile \u001b[39m\u001b[32m~\\AppData\\Local\\Temp\\__autograph_generated_filenrd5aqkc.py:107\u001b[39m, in \u001b[36mouter_factory.<locals>.inner_factory.<locals>.tf__indices_phi\u001b[39m\u001b[34m(self, *args)\u001b[39m\n\u001b[32m    105\u001b[39m     ag__.for_stmt(ag__.converted_call(ag__.ld(\u001b[38;5;28mrange\u001b[39m), (ag__.ld(\u001b[38;5;28mself\u001b[39m).kernel_size,), \u001b[38;5;28;01mNone\u001b[39;00m, fscope), \u001b[38;5;28;01mNone\u001b[39;00m, loop_body_3, get_state_5, set_state_5, (), {\u001b[33m'\u001b[39m\u001b[33miterate_names\u001b[39m\u001b[33m'\u001b[39m: \u001b[33m'\u001b[39m\u001b[33mblock\u001b[39m\u001b[33m'\u001b[39m})\n\u001b[32m    106\u001b[39m block = ag__.Undefined(\u001b[33m'\u001b[39m\u001b[33mblock\u001b[39m\u001b[33m'\u001b[39m)\n\u001b[32m--> \u001b[39m\u001b[32m107\u001b[39m \u001b[43mag__\u001b[49m\u001b[43m.\u001b[49m\u001b[43mfor_stmt\u001b[49m\u001b[43m(\u001b[49m\u001b[43mag__\u001b[49m\u001b[43m.\u001b[49m\u001b[43mconverted_call\u001b[49m\u001b[43m(\u001b[49m\u001b[43mag__\u001b[49m\u001b[43m.\u001b[49m\u001b[43mld\u001b[49m\u001b[43m(\u001b[49m\u001b[38;5;28;43mrange\u001b[39;49m\u001b[43m)\u001b[49m\u001b[43m,\u001b[49m\u001b[43m \u001b[49m\u001b[43m(\u001b[49m\u001b[43mag__\u001b[49m\u001b[43m.\u001b[49m\u001b[43mconverted_call\u001b[49m\u001b[43m(\u001b[49m\u001b[43mag__\u001b[49m\u001b[43m.\u001b[49m\u001b[43mld\u001b[49m\u001b[43m(\u001b[49m\u001b[38;5;28;43mint\u001b[39;49m\u001b[43m)\u001b[49m\u001b[43m,\u001b[49m\u001b[43m \u001b[49m\u001b[43m(\u001b[49m\u001b[43mag__\u001b[49m\u001b[43m.\u001b[49m\u001b[43mld\u001b[49m\u001b[43m(\u001b[49m\u001b[38;5;28;43mself\u001b[39;49m\u001b[43m)\u001b[49m\u001b[43m.\u001b[49m\u001b[43moutput_shape\u001b[49m\u001b[43m[\u001b[49m\u001b[32;43m0\u001b[39;49m\u001b[43m]\u001b[49m\u001b[43m \u001b[49m\u001b[43m*\u001b[49m\u001b[43m \u001b[49m\u001b[43mag__\u001b[49m\u001b[43m.\u001b[49m\u001b[43mld\u001b[49m\u001b[43m(\u001b[49m\u001b[38;5;28;43mself\u001b[39;49m\u001b[43m)\u001b[49m\u001b[43m.\u001b[49m\u001b[43moutput_shape\u001b[49m\u001b[43m[\u001b[49m\u001b[32;43m1\u001b[39;49m\u001b[43m]\u001b[49m\u001b[43m,\u001b[49m\u001b[43m)\u001b[49m\u001b[43m,\u001b[49m\u001b[43m \u001b[49m\u001b[38;5;28;43;01mNone\u001b[39;49;00m\u001b[43m,\u001b[49m\u001b[43m \u001b[49m\u001b[43mfscope\u001b[49m\u001b[43m)\u001b[49m\u001b[43m,\u001b[49m\u001b[43m)\u001b[49m\u001b[43m,\u001b[49m\u001b[43m \u001b[49m\u001b[38;5;28;43;01mNone\u001b[39;49;00m\u001b[43m,\u001b[49m\u001b[43m \u001b[49m\u001b[43mfscope\u001b[49m\u001b[43m)\u001b[49m\u001b[43m,\u001b[49m\u001b[43m \u001b[49m\u001b[38;5;28;43;01mNone\u001b[39;49;00m\u001b[43m,\u001b[49m\u001b[43m \u001b[49m\u001b[43mloop_body_4\u001b[49m\u001b[43m,\u001b[49m\u001b[43m \u001b[49m\u001b[43mget_state_6\u001b[49m\u001b[43m,\u001b[49m\u001b[43m \u001b[49m\u001b[43mset_state_6\u001b[49m\u001b[43m,\u001b[49m\u001b[43m \u001b[49m\u001b[43m(\u001b[49m\u001b[33;43m'\u001b[39;49m\u001b[33;43mcount\u001b[39;49m\u001b[33;43m'\u001b[39;49m\u001b[43m,\u001b[49m\u001b[43m \u001b[49m\u001b[33;43m'\u001b[39;49m\u001b[33;43mshift\u001b[39;49m\u001b[33;43m'\u001b[39;49m\u001b[43m)\u001b[49m\u001b[43m,\u001b[49m\u001b[43m \u001b[49m\u001b[43m{\u001b[49m\u001b[33;43m'\u001b[39;49m\u001b[33;43miterate_names\u001b[39;49m\u001b[33;43m'\u001b[39;49m\u001b[43m:\u001b[49m\u001b[43m \u001b[49m\u001b[33;43m'\u001b[39;49m\u001b[33;43mi\u001b[39;49m\u001b[33;43m'\u001b[39;49m\u001b[43m}\u001b[49m\u001b[43m)\u001b[49m\n",
      "\u001b[36mFile \u001b[39m\u001b[32m~\\AppData\\Local\\Temp\\__autograph_generated_filenrd5aqkc.py:84\u001b[39m, in \u001b[36mouter_factory.<locals>.inner_factory.<locals>.tf__indices_phi.<locals>.loop_body_4\u001b[39m\u001b[34m(itr_4)\u001b[39m\n\u001b[32m     82\u001b[39m         shift += \u001b[32m1\u001b[39m\n\u001b[32m     83\u001b[39m     ag__.if_stmt(ag__.ld(shift), if_body, else_body, get_state_2, set_state_2, (\u001b[33m'\u001b[39m\u001b[33mshift\u001b[39m\u001b[33m'\u001b[39m,), \u001b[32m1\u001b[39m)\n\u001b[32m---> \u001b[39m\u001b[32m84\u001b[39m ag__.if_stmt(ag__.ld(i) == \u001b[43mag__\u001b[49m\u001b[43m.\u001b[49m\u001b[43mld\u001b[49m\u001b[43m(\u001b[49m\u001b[43mcount\u001b[49m\u001b[43m)\u001b[49m\u001b[43m \u001b[49m\u001b[43m*\u001b[49m\u001b[43m \u001b[49m\u001b[43mag__\u001b[49m\u001b[43m.\u001b[49m\u001b[43mld\u001b[49m\u001b[43m(\u001b[49m\u001b[38;5;28;43mself\u001b[39;49m\u001b[43m)\u001b[49m\u001b[43m.\u001b[49m\u001b[43moutput_shape\u001b[49m\u001b[43m[\u001b[49m\u001b[32;43m1\u001b[39;49m\u001b[43m]\u001b[49m, if_body_1, else_body_1, get_state_3, set_state_3, (\u001b[33m'\u001b[39m\u001b[33mcount\u001b[39m\u001b[33m'\u001b[39m, \u001b[33m'\u001b[39m\u001b[33mshift\u001b[39m\u001b[33m'\u001b[39m), \u001b[32m2\u001b[39m)\n\u001b[32m     86\u001b[39m \u001b[38;5;28;01mdef\u001b[39;00m\u001b[38;5;250m \u001b[39m\u001b[34mget_state_5\u001b[39m():\n\u001b[32m     87\u001b[39m     \u001b[38;5;28;01mreturn\u001b[39;00m ()\n",
      "\u001b[31mTypeError\u001b[39m: in user code:\n\n    File \"c:\\Users\\jketchak\\Documents\\DALPHAcommunity\\UNAMUR\\EUREKA\\btwg_ml\\MatrixBasedConvolution-mbc\\MatrixBasedConvolution\\mbc.py\", line 272, in indices_phi  *\n        if i == count * (self.output_shape[1]):\n\n    TypeError: Input 'y' of 'Mul' Op has type float32 that does not match type int32 of argument 'x'.\n"
     ]
    }
   ],
   "source": [
    "ouputs_spectral=con2d.conv_jit(inputs)[0,:,:,0].numpy()\n",
    "ouputs_spectral.shape"
   ]
  },
  {
   "cell_type": "code",
   "execution_count": 93,
   "id": "5dfd9aa5",
   "metadata": {},
   "outputs": [
    {
     "data": {
      "text/plain": [
       "TensorShape([3, 3])"
      ]
     },
     "execution_count": 93,
     "metadata": {},
     "output_type": "execute_result"
    }
   ],
   "source": [
    "kernel=tf.reshape(con2d.kernel,shape=(ARGS.get('kernel_size'),ARGS.get('kernel_size')))\n",
    "kernel.shape"
   ]
  },
  {
   "cell_type": "code",
   "execution_count": 94,
   "id": "784b0643",
   "metadata": {},
   "outputs": [
    {
     "data": {
      "text/plain": [
       "(5, 5)"
      ]
     },
     "execution_count": 94,
     "metadata": {},
     "output_type": "execute_result"
    }
   ],
   "source": [
    "ouputs_classical=mbc.classical_convolution(img=inputs[0,:,:,0].numpy(),kernel=kernel.numpy())\n",
    "ouputs_classical.shape\n"
   ]
  },
  {
   "cell_type": "code",
   "execution_count": 95,
   "id": "65bc04de",
   "metadata": {},
   "outputs": [
    {
     "data": {
      "text/plain": [
       "array([[-0.92997015, -1.1436429 , -1.2366762 , -1.0699443 , -0.60976756],\n",
       "       [-0.8111584 , -1.1342181 , -1.0453719 , -1.3929131 , -0.7784873 ],\n",
       "       [-0.64596725, -1.2239282 , -1.7971048 , -1.434051  , -0.76620597],\n",
       "       [-0.8003308 , -1.7845265 , -1.1509647 , -1.46482   , -0.5464281 ],\n",
       "       [-0.41989923, -0.6421689 , -1.0164733 , -0.65374154, -0.26405677]],\n",
       "      dtype=float32)"
      ]
     },
     "execution_count": 95,
     "metadata": {},
     "output_type": "execute_result"
    }
   ],
   "source": [
    "ouputs_spectral"
   ]
  },
  {
   "cell_type": "code",
   "execution_count": 96,
   "id": "1de4f160",
   "metadata": {},
   "outputs": [
    {
     "data": {
      "text/plain": [
       "array([[-0.92997015, -1.1436428 , -1.2366761 , -1.0699443 , -0.6097675 ],\n",
       "       [-0.81115854, -1.134218  , -1.0453718 , -1.3929131 , -0.7784873 ],\n",
       "       [-0.64596725, -1.2239283 , -1.797105  , -1.434051  , -0.76620597],\n",
       "       [-0.8003308 , -1.7845265 , -1.1509647 , -1.4648199 , -0.5464281 ],\n",
       "       [-0.41989923, -0.6421689 , -1.0164733 , -0.6537416 , -0.26405674]],\n",
       "      dtype=float32)"
      ]
     },
     "execution_count": 96,
     "metadata": {},
     "output_type": "execute_result"
    }
   ],
   "source": [
    "ouputs_classical"
   ]
  },
  {
   "cell_type": "code",
   "execution_count": 97,
   "id": "1afc2651",
   "metadata": {},
   "outputs": [
    {
     "name": "stdout",
     "output_type": "stream",
     "text": [
      "The outputs are the same\n"
     ]
    }
   ],
   "source": [
    "if np.allclose(ouputs_classical,ouputs_spectral,atol=1e-16):\n",
    "    print(\"The outputs are the same\")\n",
    "    "
   ]
  }
 ],
 "metadata": {
  "kernelspec": {
   "display_name": "mon_env",
   "language": "python",
   "name": "python3"
  },
  "language_info": {
   "codemirror_mode": {
    "name": "ipython",
    "version": 3
   },
   "file_extension": ".py",
   "mimetype": "text/x-python",
   "name": "python",
   "nbconvert_exporter": "python",
   "pygments_lexer": "ipython3",
   "version": "3.12.6"
  }
 },
 "nbformat": 4,
 "nbformat_minor": 5
}
