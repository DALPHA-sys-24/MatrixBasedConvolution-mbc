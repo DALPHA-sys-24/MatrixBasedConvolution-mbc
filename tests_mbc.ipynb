{
 "cells": [
  {
   "cell_type": "code",
   "execution_count": 13,
   "id": "b9e9c3fc",
   "metadata": {},
   "outputs": [
    {
     "name": "stdout",
     "output_type": "stream",
     "text": [
      "The autoreload extension is already loaded. To reload it, use:\n",
      "  %reload_ext autoreload\n"
     ]
    }
   ],
   "source": [
    "%load_ext autoreload\n",
    "%autoreload 2\n",
    "import numpy as np\n",
    "import tensorflow as tf\n",
    "import MatrixBasedConvolution as mbc"
   ]
  },
  {
   "cell_type": "markdown",
   "id": "ea464263",
   "metadata": {},
   "source": [
    "## Convolution parameters"
   ]
  },
  {
   "cell_type": "code",
   "execution_count": 14,
   "id": "86e4c3c7",
   "metadata": {},
   "outputs": [],
   "source": [
    "inputs_shape_1d=(1,20)\n",
    "inputs_shape_2d=(1,5,5,1)\n",
    "ARGS={\"kernel_size\":3,\n",
    "\"stride\":1,\n",
    "\"padding\":'same',\n",
    "\"use_phi\":True,\n",
    "\"activation\":None,\n",
    "\"use_lambda_out\":False,\n",
    "\"use_lambda_in\":False}"
   ]
  },
  {
   "cell_type": "markdown",
   "id": "0ae98955",
   "metadata": {},
   "source": [
    "## Convalution 1D and 2D outputs"
   ]
  },
  {
   "cell_type": "code",
   "execution_count": 15,
   "id": "df962fa1",
   "metadata": {},
   "outputs": [
    {
     "name": "stdout",
     "output_type": "stream",
     "text": [
      "1D Convolution building...\n",
      "2D Convolution building...\n"
     ]
    }
   ],
   "source": [
    "print(\"1D Convolution building...\")\n",
    "con1d=mbc.matrix_conv_1d(**ARGS)\n",
    "con1d.build(inputs_shape_1d)\n",
    "print(\"2D Convolution building...\")\n",
    "con2d=mbc.matrix_conv_2d(**ARGS)\n",
    "con2d.build(inputs_shape_2d)"
   ]
  },
  {
   "cell_type": "code",
   "execution_count": 16,
   "id": "ec50f2f7",
   "metadata": {},
   "outputs": [
    {
     "name": "stdout",
     "output_type": "stream",
     "text": [
      "inputs 1D generation...\n",
      "inputs 2D generation...\n"
     ]
    }
   ],
   "source": [
    "print(\"inputs 1D generation...\")\n",
    "inputs_1d=tf.random.uniform(shape=inputs_shape_1d,minval=0,maxval=1)\n",
    "print(\"inputs 2D generation...\")\n",
    "inputs_2d=tf.random.uniform(shape=inputs_shape_2d,minval=0,maxval=1)\n"
   ]
  },
  {
   "cell_type": "code",
   "execution_count": 17,
   "id": "c038012d",
   "metadata": {},
   "outputs": [
    {
     "name": "stdout",
     "output_type": "stream",
     "text": [
      "(1, 20)\n",
      "(5, 5)\n"
     ]
    }
   ],
   "source": [
    "ouputs_mbc_1d=con1d.conv_jit(inputs_1d).numpy()\n",
    "print(ouputs_mbc_1d.shape)\n",
    "ouputs_mbc_2d=con2d.conv_jit(inputs_2d).numpy()[0,:,:,0]\n",
    "print(ouputs_mbc_2d.shape)"
   ]
  },
  {
   "cell_type": "markdown",
   "id": "c3ad51b0",
   "metadata": {},
   "source": [
    "## Comparison between standard conv1d/conv2d and matrix based conv1d/conv2d"
   ]
  },
  {
   "cell_type": "code",
   "execution_count": 18,
   "id": "5dfd9aa5",
   "metadata": {},
   "outputs": [
    {
     "data": {
      "text/plain": [
       "TensorShape([3, 3])"
      ]
     },
     "execution_count": 18,
     "metadata": {},
     "output_type": "execute_result"
    }
   ],
   "source": [
    "kernel=tf.reshape(con2d.kernel,shape=(ARGS.get('kernel_size'),ARGS.get('kernel_size')))\n",
    "kernel.shape"
   ]
  },
  {
   "cell_type": "code",
   "execution_count": 19,
   "id": "784b0643",
   "metadata": {},
   "outputs": [
    {
     "data": {
      "text/plain": [
       "(5, 5)"
      ]
     },
     "execution_count": 19,
     "metadata": {},
     "output_type": "execute_result"
    }
   ],
   "source": [
    "ouputs_classical=mbc.classical_convolution(img=inputs_2d[0,:,:,0],kernel=kernel.numpy())\n",
    "ouputs_classical.shape\n"
   ]
  },
  {
   "cell_type": "code",
   "execution_count": 20,
   "id": "65bc04de",
   "metadata": {},
   "outputs": [
    {
     "data": {
      "text/plain": [
       "array([[-0.155317  , -0.21511647, -0.12905532, -0.6630691 , -0.19584489],\n",
       "       [ 0.06053798, -0.30139107,  1.0559726 ,  0.02443737, -0.08383453],\n",
       "       [ 0.36394474, -0.03728768, -0.20574373,  0.10574064, -0.36265993],\n",
       "       [-0.26435986,  0.33647072, -0.2513414 ,  0.12431967, -0.13112715],\n",
       "       [-0.34822625, -0.31560877,  0.09860386,  0.29490238, -0.19530796]],\n",
       "      dtype=float32)"
      ]
     },
     "execution_count": 20,
     "metadata": {},
     "output_type": "execute_result"
    }
   ],
   "source": [
    "ouputs_mbc_2d"
   ]
  },
  {
   "cell_type": "code",
   "execution_count": 21,
   "id": "1de4f160",
   "metadata": {},
   "outputs": [
    {
     "data": {
      "text/plain": [
       "array([[-0.15531698, -0.21511647, -0.12905529, -0.6630691 , -0.1958449 ],\n",
       "       [ 0.06053799, -0.30139107,  1.0559726 ,  0.02443737, -0.08383453],\n",
       "       [ 0.36394477, -0.03728768, -0.20574379,  0.10574066, -0.36265993],\n",
       "       [-0.26435983,  0.33647072, -0.2513414 ,  0.12431967, -0.13112713],\n",
       "       [-0.34822625, -0.31560877,  0.09860385,  0.29490238, -0.19530796]],\n",
       "      dtype=float32)"
      ]
     },
     "execution_count": 21,
     "metadata": {},
     "output_type": "execute_result"
    }
   ],
   "source": [
    "ouputs_classical"
   ]
  },
  {
   "cell_type": "code",
   "execution_count": 22,
   "id": "1afc2651",
   "metadata": {},
   "outputs": [
    {
     "name": "stdout",
     "output_type": "stream",
     "text": [
      "The outputs are the same\n"
     ]
    }
   ],
   "source": [
    "if np.allclose(ouputs_classical,ouputs_mbc_2d,atol=1e-16):\n",
    "    print(\"The outputs are the same\")\n",
    "    "
   ]
  }
 ],
 "metadata": {
  "kernelspec": {
   "display_name": "mon_env",
   "language": "python",
   "name": "python3"
  },
  "language_info": {
   "codemirror_mode": {
    "name": "ipython",
    "version": 3
   },
   "file_extension": ".py",
   "mimetype": "text/x-python",
   "name": "python",
   "nbconvert_exporter": "python",
   "pygments_lexer": "ipython3",
   "version": "3.12.6"
  }
 },
 "nbformat": 4,
 "nbformat_minor": 5
}
