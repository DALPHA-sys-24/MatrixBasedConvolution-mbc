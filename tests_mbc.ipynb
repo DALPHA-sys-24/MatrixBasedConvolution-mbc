{
 "cells": [
  {
   "cell_type": "code",
   "execution_count": 25,
   "id": "b9e9c3fc",
   "metadata": {},
   "outputs": [
    {
     "name": "stdout",
     "output_type": "stream",
     "text": [
      "The autoreload extension is already loaded. To reload it, use:\n",
      "  %reload_ext autoreload\n"
     ]
    }
   ],
   "source": [
    "%load_ext autoreload\n",
    "%autoreload 2\n",
    "import numpy as np\n",
    "import tensorflow as tf\n",
    "import MatrixBasedConvolution as mbc"
   ]
  },
  {
   "cell_type": "markdown",
   "id": "ea464263",
   "metadata": {},
   "source": [
    "## Convolution parameters"
   ]
  },
  {
   "cell_type": "code",
   "execution_count": 26,
   "id": "86e4c3c7",
   "metadata": {},
   "outputs": [],
   "source": [
    "inputs_shape_1d=(1,20)\n",
    "inputs_shape_2d=(1,5,5,1)\n",
    "ARGS={\"kernel_size\":3,\n",
    "\"stride\":1,\n",
    "\"padding\":'same',\n",
    "\"use_phi\":True,\n",
    "\"activation\":None,\n",
    "\"use_lambda_out\":False,\n",
    "\"use_lambda_in\":False}"
   ]
  },
  {
   "cell_type": "markdown",
   "id": "0ae98955",
   "metadata": {},
   "source": [
    "## Convalution 1D and 2D outputs"
   ]
  },
  {
   "cell_type": "code",
   "execution_count": 27,
   "id": "df962fa1",
   "metadata": {},
   "outputs": [
    {
     "name": "stdout",
     "output_type": "stream",
     "text": [
      "1D Convolution building...\n",
      "2D Convolution building...\n"
     ]
    }
   ],
   "source": [
    "print(\"1D Convolution building...\")\n",
    "con1d=mbc.matrix_conv_1d(**ARGS)\n",
    "con1d.build(inputs_shape_1d)\n",
    "print(\"2D Convolution building...\")\n",
    "con2d=mbc.matrix_conv_2d(**ARGS)\n",
    "con2d.build(inputs_shape_2d)"
   ]
  },
  {
   "cell_type": "code",
   "execution_count": 28,
   "id": "ec50f2f7",
   "metadata": {},
   "outputs": [
    {
     "name": "stdout",
     "output_type": "stream",
     "text": [
      "inputs 1D generation...\n",
      "inputs 2D generation...\n"
     ]
    }
   ],
   "source": [
    "print(\"inputs 1D generation...\")\n",
    "inputs_1d=tf.random.uniform(shape=inputs_shape_1d,minval=0,maxval=1)\n",
    "print(\"inputs 2D generation...\")\n",
    "inputs_2d=tf.random.uniform(shape=inputs_shape_2d,minval=0,maxval=1)\n"
   ]
  },
  {
   "cell_type": "code",
   "execution_count": 29,
   "id": "c038012d",
   "metadata": {},
   "outputs": [
    {
     "name": "stdout",
     "output_type": "stream",
     "text": [
      "(1, 20)\n",
      "(5, 5)\n"
     ]
    }
   ],
   "source": [
    "ouputs_mbc_1d=con1d.conv_jit(inputs_1d).numpy()\n",
    "print(ouputs_mbc_1d.shape)\n",
    "ouputs_mbc_2d=con2d.conv_jit(inputs_2d).numpy()[0,:,:,0]\n",
    "print(ouputs_mbc_2d.shape)"
   ]
  },
  {
   "cell_type": "markdown",
   "id": "c3ad51b0",
   "metadata": {},
   "source": [
    "## Comparison between standard conv1d/conv2d and matrix based conv1d/conv2d"
   ]
  },
  {
   "cell_type": "code",
   "execution_count": 30,
   "id": "5dfd9aa5",
   "metadata": {},
   "outputs": [
    {
     "data": {
      "text/plain": [
       "TensorShape([3, 3])"
      ]
     },
     "execution_count": 30,
     "metadata": {},
     "output_type": "execute_result"
    }
   ],
   "source": [
    "kernel=tf.reshape(con2d.kernel,shape=(ARGS.get('kernel_size'),ARGS.get('kernel_size')))\n",
    "kernel.shape"
   ]
  },
  {
   "cell_type": "code",
   "execution_count": 31,
   "id": "784b0643",
   "metadata": {},
   "outputs": [
    {
     "data": {
      "text/plain": [
       "(5, 5)"
      ]
     },
     "execution_count": 31,
     "metadata": {},
     "output_type": "execute_result"
    }
   ],
   "source": [
    "ouputs_classical=mbc.classical_convolution(img=inputs_2d[0,:,:,0],kernel=kernel.numpy())\n",
    "ouputs_classical.shape\n"
   ]
  },
  {
   "cell_type": "code",
   "execution_count": 32,
   "id": "65bc04de",
   "metadata": {},
   "outputs": [
    {
     "data": {
      "text/plain": [
       "array([[ 0.19764873, -0.23331879, -0.4850127 , -0.43570155, -0.77143717],\n",
       "       [ 0.4793913 ,  0.15222931,  0.71863467,  0.70394063,  0.44844094],\n",
       "       [ 0.6343563 ,  0.4520318 ,  0.28845876,  0.23038262, -0.71837115],\n",
       "       [ 0.26830578,  0.20875445,  0.13688466,  0.13685319,  0.08429235],\n",
       "       [ 0.2162105 ,  0.29226077,  0.6303144 ,  0.4999283 ,  0.20011243]],\n",
       "      dtype=float32)"
      ]
     },
     "execution_count": 32,
     "metadata": {},
     "output_type": "execute_result"
    }
   ],
   "source": [
    "ouputs_mbc_2d"
   ]
  },
  {
   "cell_type": "code",
   "execution_count": 33,
   "id": "1de4f160",
   "metadata": {},
   "outputs": [
    {
     "data": {
      "text/plain": [
       "array([[ 0.19764873, -0.23331876, -0.48501268, -0.43570152, -0.7714371 ],\n",
       "       [ 0.4793913 ,  0.15222928,  0.71863467,  0.7039407 ,  0.4484409 ],\n",
       "       [ 0.63435626,  0.45203173,  0.28845876,  0.23038268, -0.71837115],\n",
       "       [ 0.26830578,  0.20875444,  0.13688466,  0.13685317,  0.08429234],\n",
       "       [ 0.21621053,  0.29226074,  0.6303144 ,  0.49992836,  0.20011243]],\n",
       "      dtype=float32)"
      ]
     },
     "execution_count": 33,
     "metadata": {},
     "output_type": "execute_result"
    }
   ],
   "source": [
    "ouputs_classical"
   ]
  },
  {
   "cell_type": "code",
   "execution_count": 34,
   "id": "1afc2651",
   "metadata": {},
   "outputs": [
    {
     "name": "stdout",
     "output_type": "stream",
     "text": [
      "The outputs are the same\n"
     ]
    }
   ],
   "source": [
    "if np.allclose(ouputs_classical,ouputs_mbc_2d,atol=1e-16):\n",
    "    print(\"The outputs are the same\")\n"
   ]
  },
  {
   "cell_type": "markdown",
   "id": "1cdd6951",
   "metadata": {},
   "source": [
    "## Timer"
   ]
  },
  {
   "cell_type": "code",
   "execution_count": 35,
   "id": "f10cbd1b",
   "metadata": {},
   "outputs": [
    {
     "name": "stdout",
     "output_type": "stream",
     "text": [
      "144 μs ± 1.69 μs per loop (mean ± std. dev. of 7 runs, 10,000 loops each)\n"
     ]
    }
   ],
   "source": [
    "%timeit ouputs_mbc_2d=con2d.conv_jit(inputs_2d).numpy()\n"
   ]
  },
  {
   "cell_type": "code",
   "execution_count": 36,
   "id": "31f46dbd",
   "metadata": {},
   "outputs": [
    {
     "name": "stdout",
     "output_type": "stream",
     "text": [
      "26.3 ms ± 1.33 ms per loop (mean ± std. dev. of 7 runs, 10 loops each)\n"
     ]
    }
   ],
   "source": [
    "%timeit mbc.classical_convolution(img=inputs_2d[0,:,:,0],kernel=kernel.numpy())"
   ]
  },
  {
   "cell_type": "code",
   "execution_count": null,
   "id": "9d5ea1f9",
   "metadata": {},
   "outputs": [],
   "source": [
    "conv_layer = tf.keras.layers.Conv2D(\n",
    "    filters=1,           \n",
    "    kernel_size=(ARGS.get('kernel_size'), ARGS.get('kernel_size')),     \n",
    "    strides=(ARGS.get('stride'), ARGS.get('stride')),  \n",
    "    activation=ARGS.get('activation'),      \n",
    "    padding=ARGS.get('padding'),        \n",
    "    use_bias=False          \n",
    ")\n",
    "conv_layer.build(input_shape=inputs_2d.shape)\n",
    "conv_layer.set_weights([tf.reshape(kernel,shape=(ARGS.get('kernel_size'),ARGS.get('kernel_size'),1,1)).numpy()])\n"
   ]
  },
  {
   "cell_type": "code",
   "execution_count": 38,
   "id": "de9cbd30",
   "metadata": {},
   "outputs": [
    {
     "name": "stdout",
     "output_type": "stream",
     "text": [
      "488 μs ± 14.5 μs per loop (mean ± std. dev. of 7 runs, 1,000 loops each)\n"
     ]
    }
   ],
   "source": [
    "%timeit conv_layer(inputs_2d)"
   ]
  }
 ],
 "metadata": {
  "kernelspec": {
   "display_name": "mon_env",
   "language": "python",
   "name": "python3"
  },
  "language_info": {
   "codemirror_mode": {
    "name": "ipython",
    "version": 3
   },
   "file_extension": ".py",
   "mimetype": "text/x-python",
   "name": "python",
   "nbconvert_exporter": "python",
   "pygments_lexer": "ipython3",
   "version": "3.12.6"
  }
 },
 "nbformat": 4,
 "nbformat_minor": 5
}
