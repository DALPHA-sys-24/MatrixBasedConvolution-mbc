{
 "cells": [
  {
   "cell_type": "code",
   "execution_count": 1,
   "id": "b9e9c3fc",
   "metadata": {},
   "outputs": [],
   "source": [
    "%load_ext autoreload\n",
    "%autoreload 2\n",
    "import numpy as np\n",
    "import tensorflow as tf\n",
    "import MatrixBasedConvolution as mbc"
   ]
  },
  {
   "cell_type": "markdown",
   "id": "ea464263",
   "metadata": {},
   "source": [
    "## Convolution parameters"
   ]
  },
  {
   "cell_type": "code",
   "execution_count": 2,
   "id": "86e4c3c7",
   "metadata": {},
   "outputs": [],
   "source": [
    "inputs_shape_1d=(1,20)\n",
    "inputs_shape_2d=(1,5,5,1)\n",
    "ARGS={\"kernel_size\":3,\n",
    "\"stride\":1,\n",
    "\"padding\":'same',\n",
    "\"use_phi\":True,\n",
    "\"activation\":None,\n",
    "\"use_lambda_out\":False,\n",
    "\"use_lambda_in\":False}"
   ]
  },
  {
   "cell_type": "markdown",
   "id": "0ae98955",
   "metadata": {},
   "source": [
    "## Convalution 1D and 2D outputs"
   ]
  },
  {
   "cell_type": "code",
   "execution_count": 3,
   "id": "df962fa1",
   "metadata": {},
   "outputs": [
    {
     "name": "stdout",
     "output_type": "stream",
     "text": [
      "1D Convolution building...\n",
      "2D Convolution building...\n"
     ]
    }
   ],
   "source": [
    "print(\"1D Convolution building...\")\n",
    "con1d=mbc.matrix_conv_1d(**ARGS)\n",
    "con1d.build(inputs_shape_1d)\n",
    "print(\"2D Convolution building...\")\n",
    "con2d=mbc.matrix_conv_2d(**ARGS)\n",
    "con2d.build(inputs_shape_2d)"
   ]
  },
  {
   "cell_type": "code",
   "execution_count": 4,
   "id": "ec50f2f7",
   "metadata": {},
   "outputs": [
    {
     "name": "stdout",
     "output_type": "stream",
     "text": [
      "inputs 1D generation...\n",
      "inputs 2D generation...\n"
     ]
    }
   ],
   "source": [
    "print(\"inputs 1D generation...\")\n",
    "inputs_1d=tf.random.uniform(shape=inputs_shape_1d,minval=0,maxval=1)\n",
    "print(\"inputs 2D generation...\")\n",
    "inputs_2d=tf.random.uniform(shape=inputs_shape_2d,minval=0,maxval=1)\n"
   ]
  },
  {
   "cell_type": "code",
   "execution_count": 5,
   "id": "c038012d",
   "metadata": {},
   "outputs": [
    {
     "name": "stdout",
     "output_type": "stream",
     "text": [
      "(1, 20)\n",
      "(5, 5)\n"
     ]
    }
   ],
   "source": [
    "ouputs_spectral_1d=con1d.conv_jit(inputs_1d).numpy()\n",
    "print(ouputs_spectral_1d.shape)\n",
    "ouputs_spectral_2d=con2d.conv_jit(inputs_2d).numpy()[0,:,:,0]\n",
    "print(ouputs_spectral_2d.shape)"
   ]
  },
  {
   "cell_type": "markdown",
   "id": "c3ad51b0",
   "metadata": {},
   "source": [
    "## Comparison between standard conv1d/conv2d and matrix based conv1d/conv2d"
   ]
  },
  {
   "cell_type": "code",
   "execution_count": 6,
   "id": "5dfd9aa5",
   "metadata": {},
   "outputs": [
    {
     "data": {
      "text/plain": [
       "TensorShape([3, 3])"
      ]
     },
     "execution_count": 6,
     "metadata": {},
     "output_type": "execute_result"
    }
   ],
   "source": [
    "kernel=tf.reshape(con2d.kernel,shape=(ARGS.get('kernel_size'),ARGS.get('kernel_size')))\n",
    "kernel.shape"
   ]
  },
  {
   "cell_type": "code",
   "execution_count": 7,
   "id": "784b0643",
   "metadata": {},
   "outputs": [
    {
     "data": {
      "text/plain": [
       "(5, 5)"
      ]
     },
     "execution_count": 7,
     "metadata": {},
     "output_type": "execute_result"
    }
   ],
   "source": [
    "ouputs_classical=mbc.classical_convolution(img=inputs_2d[0,:,:,0],kernel=kernel.numpy())\n",
    "ouputs_classical.shape\n"
   ]
  },
  {
   "cell_type": "code",
   "execution_count": 8,
   "id": "65bc04de",
   "metadata": {},
   "outputs": [
    {
     "data": {
      "text/plain": [
       "array([[ 0.3363874 ,  0.33860737,  0.12572068,  0.43804696,  0.04068105],\n",
       "       [ 0.5554215 ,  1.0029837 ,  0.94544846,  0.46615267, -0.02281156],\n",
       "       [ 0.3798789 ,  0.8338924 ,  0.33710784,  0.57981986, -0.10854447],\n",
       "       [ 0.59404606,  0.7640292 ,  0.90475166,  0.5212817 ,  0.225201  ],\n",
       "       [ 0.30863792,  0.27067915, -0.0795469 ,  0.52462924, -0.13137436]],\n",
       "      dtype=float32)"
      ]
     },
     "execution_count": 8,
     "metadata": {},
     "output_type": "execute_result"
    }
   ],
   "source": [
    "ouputs_spectral_2d"
   ]
  },
  {
   "cell_type": "code",
   "execution_count": 9,
   "id": "1de4f160",
   "metadata": {},
   "outputs": [
    {
     "data": {
      "text/plain": [
       "array([[ 0.3363874 ,  0.33860737,  0.12572068,  0.43804693,  0.04068106],\n",
       "       [ 0.5554214 ,  1.0029837 ,  0.9454485 ,  0.4661527 , -0.02281155],\n",
       "       [ 0.3798789 ,  0.83389246,  0.33710784,  0.5798198 , -0.1085445 ],\n",
       "       [ 0.5940461 ,  0.76402926,  0.90475166,  0.5212817 ,  0.22520101],\n",
       "       [ 0.30863792,  0.27067912, -0.07954691,  0.5246292 , -0.13137437]],\n",
       "      dtype=float32)"
      ]
     },
     "execution_count": 9,
     "metadata": {},
     "output_type": "execute_result"
    }
   ],
   "source": [
    "ouputs_classical"
   ]
  },
  {
   "cell_type": "code",
   "execution_count": 12,
   "id": "1afc2651",
   "metadata": {},
   "outputs": [
    {
     "name": "stdout",
     "output_type": "stream",
     "text": [
      "The outputs are the same\n"
     ]
    }
   ],
   "source": [
    "if np.allclose(ouputs_classical,ouputs_spectral_2d,atol=1e-16):\n",
    "    print(\"The outputs are the same\")\n",
    "    "
   ]
  }
 ],
 "metadata": {
  "kernelspec": {
   "display_name": "mon_env",
   "language": "python",
   "name": "python3"
  },
  "language_info": {
   "codemirror_mode": {
    "name": "ipython",
    "version": 3
   },
   "file_extension": ".py",
   "mimetype": "text/x-python",
   "name": "python",
   "nbconvert_exporter": "python",
   "pygments_lexer": "ipython3",
   "version": "3.12.6"
  }
 },
 "nbformat": 4,
 "nbformat_minor": 5
}
